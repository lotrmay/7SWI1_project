{
  "cells": [
    {
      "cell_type": "markdown",
      "metadata": {
        "id": "view-in-github",
        "colab_type": "text"
      },
      "source": [
        "<a href=\"https://colab.research.google.com/github/lotrmay/7SWI1_project/blob/main/bc_bert.ipynb\" target=\"_parent\"><img src=\"https://colab.research.google.com/assets/colab-badge.svg\" alt=\"Open In Colab\"/></a>"
      ]
    },
    {
      "cell_type": "code",
      "execution_count": null,
      "metadata": {
        "id": "aKqaUrXHmtCK"
      },
      "outputs": [],
      "source": [
        "!pip install optuna"
      ]
    },
    {
      "cell_type": "code",
      "execution_count": null,
      "metadata": {
        "id": "EkCir74UhKjG"
      },
      "outputs": [],
      "source": [
        "!pip install wandb\n",
        "!wandb login\n",
        "import wandb"
      ]
    },
    {
      "cell_type": "code",
      "execution_count": 2,
      "metadata": {
        "id": "u3mB2E7JBxOS",
        "colab": {
          "base_uri": "https://localhost:8080/"
        },
        "outputId": "142d7291-2b7d-49f3-c997-4af5881a7f80"
      },
      "outputs": [
        {
          "output_type": "stream",
          "name": "stdout",
          "text": [
            "Mounted at /content/drive\n"
          ]
        }
      ],
      "source": [
        "from google.colab import drive\n",
        "drive.mount('/content/drive')"
      ]
    },
    {
      "cell_type": "code",
      "execution_count": 20,
      "metadata": {
        "colab": {
          "base_uri": "https://localhost:8080/"
        },
        "id": "WCY-aVPMK1aO",
        "outputId": "9f119108-652c-4bde-e6dd-ea6127543971"
      },
      "outputs": [
        {
          "output_type": "stream",
          "name": "stderr",
          "text": [
            "/usr/local/lib/python3.7/dist-packages/IPython/core/interactiveshell.py:2882: FutureWarning: The error_bad_lines argument has been deprecated and will be removed in a future version.\n",
            "\n",
            "\n",
            "  exec(code_obj, self.user_global_ns, self.user_ns)\n"
          ]
        },
        {
          "output_type": "stream",
          "name": "stdout",
          "text": [
            "(18859, 103)\n"
          ]
        }
      ],
      "source": [
        "%tensorflow_version 2.x\n",
        "import tensorflow as tf\n",
        "import pickle\n",
        "import keras\n",
        "import numpy as np \n",
        "import pandas as pd \n",
        "import matplotlib.pyplot as plt \n",
        "import sklearn\n",
        "from sklearn.preprocessing import StandardScaler\n",
        "\n",
        "\n",
        "CSV_COLUMN_NAMES=['Odds_firstTeam','Odds_secondTeam','Rank_firstTeam','Rank_secondTeam','WinRate_firstTeam','WinRate_secondTeam','PistolWinRate_firstTeam','PistolWinRate_secondTeam',\n",
        "                  'playerAARating','playerAADpr','playerAAKast','playerAAImpact','playerAAAdr','playerAAKpr','playerAAHs','playerAAKD','playerAAGrenadeDmg',\n",
        "                  'playerABRating','playerABDpr','playerABKast','playerABImpact','playerABAdr','playerABKpr','playerABHs','playerABKD','playerABGrenadeDmg',\n",
        "                  'playerACRating','playerACDpr','playerACKast','playerACImpact','playerACAdr','playerACKpr','playerACHs','playerACKD','playerACGrenadeDmg',\n",
        "                  'playerADRating','playerADDpr','playerADKast','playerADImpact','playerADAdr','playerADKpr','playerADHs','playerADKD','playerADGrenadeDmg',\n",
        "                  'playerAERating','playerAEDpr','playerAEKast','playerAEImpact','playerAEAdr','playerAEKpr','playerAEHs','playerAEKD','playerAEGrenadeDmg',\n",
        "                  'playerBARating','playerBADpr','playerBAKast','playerBAImpact','playerBAAdr','playerBAKpr','playerBAHs','playerBAKD','playerBAGrenadeDmg',\n",
        "                  'playerBBRating','playerBBDpr','playerBBKast','playerBBImpact','playerBBAdr','playerBBKpr','playerBBHs','playerBBKD','playerBBGrenadeDmg',\n",
        "                  'playerBCRating','playerBCDpr','playerBCKast','playerBCImpact','playerBCAdr','playerBCKpr','playerBCHs','playerBCKD','playerBCGrenadeDmg',\n",
        "                  'playerBDRating','playerBDDpr','playerBDKast','playerBDImpact','playerBDAdr','playerBDKpr','playerBDHs','playerBDKD','playerBDGrenadeDmg',\n",
        "                  'playerBERating','playerBEDpr','playerBEKast','playerBEImpact','playerBEAdr','playerBEKpr','playerBEHs','playerBEKD','playerBEGrenadeDmg','matchFormat','Match_link','Result','team_one_name','team_two_name']\n",
        "\n",
        "#datasetOne=pd.read_csv('/content/drive/MyDrive/data/betterData.csv',sep=\";\",names=CSV_COLUMN_NAMES,error_bad_lines=False,header=None)#vytvoří dataframe z našeho csv souboru\n",
        "#datasetTwo=pd.read_csv('/content/drive/MyDrive/data/dataWithPredictedOdds.csv',sep=\";\",names=CSV_COLUMN_NAMES,error_bad_lines=False,header=0)\n",
        "#dataset=pd.concat([datasetOne,datasetTwo])\n",
        "dataset=pd.read_csv('/content/drive/MyDrive/data/betterData.csv',sep=\";\",names=CSV_COLUMN_NAMES,error_bad_lines=False,header=None)\n",
        "\n",
        "print(dataset.shape)#vypíše nám dimenzionalitu našeho dataframu např.(2, 3) 2 řádky 3 sloupce\n",
        "#print(dataset.describe())\n",
        "#dataBO1\n",
        "#dataBO3\n",
        "#betterData\n",
        "#easyData\n",
        "#dataWithPredictedOdds\n",
        "\n",
        "#následující 2 řádky nám upraví dva sloupce z textových na číselné formáty (category datatype)\n",
        "dataset['team_one_name']=pd.Categorical(dataset['team_one_name']).codes #sníží využití paměti z 1.2MB na 0.03 MB viz: https://towardsdatascience.com/staying-sane-while-adopting-pandas-categorical-datatypes-78dbd19dcd8a\n",
        "dataset['team_two_name']=pd.Categorical(dataset['team_two_name']).codes\n",
        "dataset['matchFormat']=pd.Categorical(dataset['matchFormat']).codes\n",
        "\n",
        "\n",
        "#Odstraním z dataframu následující sloupce (odkaz na zápas a jména týmů), jelikož jsem je využíval pouze při sběru dat\n",
        "dataset.pop('Match_link')\n",
        "dataset.pop('team_one_name')\n",
        "dataset.pop('team_two_name')\n",
        "dataset.pop('matchFormat')\n",
        "\n",
        "#https://stackoverflow.com/questions/29576430/shuffle-dataframe-rows\n",
        "#frac=1 znamená, vrať všechny řádky\n",
        "dataset = dataset.sample(frac=1).reset_index(drop=True) #náhodně zamícháme řádky (můžeme využít seed)\n",
        "\n",
        "main_scaler=sklearn.preprocessing.StandardScaler()#standardscaler narozdíl od minmaxscaleru vykazuje o 2 procenta lepší přesnost, navíc je logické ho použít\n",
        "y = dataset['Result'].values\n",
        "dataset.pop('Result')\n",
        "X = dataset.values"
      ]
    },
    {
      "cell_type": "code",
      "execution_count": 21,
      "metadata": {
        "colab": {
          "base_uri": "https://localhost:8080/"
        },
        "id": "jL-_SH1Afa5K",
        "outputId": "bb4d1fb2-2dad-4410-88fc-2a0b47c6242a"
      },
      "outputs": [
        {
          "output_type": "stream",
          "name": "stdout",
          "text": [
            "(17916, 98) (17916,)\n"
          ]
        }
      ],
      "source": [
        "from sklearn.ensemble import IsolationForest \n",
        "from sklearn.svm import OneClassSVM \n",
        "from sklearn.covariance import EllipticEnvelope \n",
        "from sklearn.neighbors import LocalOutlierFactor\n",
        "\n",
        "lof = LocalOutlierFactor(contamination=0.05)\n",
        "yhat = lof.fit_predict(X)\n",
        "\n",
        "mask = yhat != -1\n",
        "X, y = X[mask, :], y[mask]\n",
        "print(X.shape, y.shape)"
      ]
    },
    {
      "cell_type": "code",
      "execution_count": 22,
      "metadata": {
        "colab": {
          "base_uri": "https://localhost:8080/"
        },
        "id": "OMgJlftqf2Tm",
        "outputId": "bb30e828-359c-4fd6-e081-8a6df4f4aca0"
      },
      "outputs": [
        {
          "output_type": "stream",
          "name": "stdout",
          "text": [
            "(17916, 98)\n",
            "(17916,)\n",
            "(14332, 98)\n",
            "(1792, 98)\n",
            "(1792, 98)\n"
          ]
        }
      ],
      "source": [
        "#rozdělíme náš dataframe na trénovací, testovací a validační dataset\n",
        "#testovací dataset bude 10%\n",
        "print(X.shape)\n",
        "print(y.shape)\n",
        "X_train, X_test, y_train, y_test = sklearn.model_selection.train_test_split(X, y, test_size=0.20)\n",
        "#validační set bude 10% \n",
        "X_test, X_val, y_test, y_val = sklearn.model_selection.train_test_split(X_test, y_test, test_size=0.5)\n",
        "\n",
        "print(X_train.shape) \n",
        "print(X_test.shape)\n",
        "print(X_val.shape)\n",
        "\n",
        "main_scaler.fit(X_train)\n",
        "\n",
        "X_train=main_scaler.transform(X_train)#:https://stackoverflow.com/questions/49444262/normalize-data-before-or-after-split-of-training-and-testing-data\n",
        "X_test=main_scaler.transform(X_test)\n",
        "X_val=main_scaler.transform(X_val)"
      ]
    },
    {
      "cell_type": "code",
      "execution_count": null,
      "metadata": {
        "id": "nkPmwgkV1RUy"
      },
      "outputs": [],
      "source": [
        "!pip install tensorflow-text"
      ]
    },
    {
      "cell_type": "code",
      "execution_count": 23,
      "metadata": {
        "id": "X_rW3N6fDWgw"
      },
      "outputs": [],
      "source": [
        "import random\n",
        "class DataGenerator(tf.keras.utils.Sequence):\n",
        "    def __init__(self, dataset, labels, batch_size=32):\n",
        "        self.dataset = dataset \n",
        "        self.batch_size = batch_size\n",
        "        self.labels = labels\n",
        "        self.indexes = self.generateIDs(dataset.shape[0])\n",
        "        self.mean=self.dataset.mean(axis=0)\n",
        "        self.std=self.dataset.std(axis=0)\n",
        "        self.on_epoch_end()\n",
        "\n",
        "    def generateIDs(self,length):\n",
        "      ret=list()\n",
        "      for i in range(0,length):\n",
        "        ret.append(i)\n",
        "      return ret\n",
        "\n",
        "    def __len__(self):\n",
        "        return int(np.floor(len(self.indexes) / self.batch_size))\n",
        "\n",
        "    def __getitem__(self, index):\n",
        "        indexes = self.indexes[index*self.batch_size:(index+1)*self.batch_size]\n",
        "        X, y = self.__data_generation(indexes)\n",
        "        return X, y\n",
        "\n",
        "    def on_epoch_end(self):\n",
        "      np.random.shuffle(self.indexes)\n",
        "\n",
        "    def __data_generation(self, list_IDs_temp):\n",
        "      mu=np.mean(self.dataset, axis = 0)\n",
        "      sigma=np.std(self.dataset, axis=0)\n",
        "      Xret = np.empty(shape=(self.batch_size,98))\n",
        "      yret = np.empty((self.batch_size), dtype=int)\n",
        "      for i, ID in enumerate(list_IDs_temp):\n",
        "        Xret[i] = self.dataset[ID]\n",
        "        yret[i] = self.labels[ID]\n",
        "        if(random.random()<=0.3):#po tomhle udělat i ranodm na augmentaci, kde by mohly být dvě pole jedno 1-5 další 5-10 dát random shuffle a v tom pořadí tam přidat hráče a pak dát ještě nějakou pravděpodobnost na flipnutí?\n",
        "          augmentedAttr=np.random.randint(3,98,size=random.randint(0, 35))#augmentovat odds? míra augmentace?\n",
        "          for attr in augmentedAttr:\n",
        "            gaussValue=random.gauss(self.mean[attr], self.std[attr])\n",
        "            Xret[i][attr]=gaussValue\n",
        "        if(random.random()<=0.5):\n",
        "          flippedXret=Xret[i][[1,0,3,2,5,4,7,6]]\n",
        "          flippedXret=np.concatenate((flippedXret,Xret[i][53:98]))\n",
        "          flippedXret=np.concatenate((flippedXret,Xret[i][8:53]))\n",
        "          Xret[i]=flippedXret\n",
        "          yret[i]=abs(yret[i]-1)\n",
        "      Xret=returnTextForm(Xret)\n",
        "      return Xret, yret"
      ]
    },
    {
      "cell_type": "code",
      "execution_count": 24,
      "metadata": {
        "id": "RzUbfoJ6L8qN"
      },
      "outputs": [],
      "source": [
        "import tensorflow_hub as hub\n",
        "import tensorflow_text as text\n",
        "\n",
        "def build_classifier_model():\n",
        "  text_input = tf.keras.layers.Input(shape=(), dtype=tf.string)\n",
        "  preprocessing_layer = hub.KerasLayer(\"https://tfhub.dev/tensorflow/bert_en_uncased_preprocess/3\")\n",
        "  encoder_inputs = preprocessing_layer(text_input)\n",
        "  encoder = hub.KerasLayer( \"https://tfhub.dev/tensorflow/small_bert/bert_en_uncased_L-2_H-128_A-2/2\",trainable=True)\n",
        "  outputs = encoder(encoder_inputs)\n",
        "  l = outputs['pooled_output']\n",
        "  l = tf.keras.layers.Dense(1, activation='sigmoid', name='classifier')(l)\n",
        "  return tf.keras.Model(text_input, l)\n"
      ]
    },
    {
      "cell_type": "code",
      "execution_count": 25,
      "metadata": {
        "id": "r6n_trkE26zS"
      },
      "outputs": [],
      "source": [
        "y_train = np.array(y_train)\n",
        "y_test=np.array(y_test)\n",
        "y_val=np.array(y_val)\n",
        "\n",
        "def returnTextForm(input):\n",
        "    ret = []\n",
        "    for row in input:\n",
        "        combined = \"\"\n",
        "        combined += '{} {} {} {} {} {} {} {} {} {} {} {} {} {} {} {} {} {} {} {} {} {} {} {} {} {} {} {} {} {} {} {} {} {} {} {} {} {} {} {} {} {} {} {} {} {} {} {} {} {} {} {} {} {} {} {} {} {} {} {} {} {} {} {} {} {} {} {} {} {} {} {} {} {} {} {} {} {} {} {} {} {} {} {} {} {} {} {} {} {} {} {} {} {} {} {} {} {} '.format(row[0],row[1],row[2],row[3],row[4],row[5],row[6],row[7],row[8],row[9],row[10],row[11],row[12],row[13],row[14],row[15],row[16],row[17],row[18],row[19],row[20],row[21],row[22],row[23],row[24],row[25],row[26],row[27],row[28],row[29],row[30],row[31],row[32],row[33],row[34],row[35],row[36],row[37],row[38],row[39],row[40],row[41],row[42],row[43],row[44],row[45],row[46],row[47],row[48],row[49],row[50],row[51],row[52],row[53],row[54],row[55],row[56],row[57],row[58],row[59],row[60],row[61],row[62],row[63],row[64],row[65],row[66],row[67],row[68],row[69],row[70],row[71],row[72],row[73],row[74],row[75],row[76],row[77],row[78],row[79],row[80],row[81],row[82],row[83],row[84],row[85],row[86],row[87],row[88],row[89],row[90],row[91],row[92],row[93],row[94],row[95],row[96],row[97])\n",
        "        ret.append(combined)\n",
        "    return np.array(ret)\n",
        "\n",
        "X_test=returnTextForm(X_test)\n",
        "X_val=returnTextForm(X_val)"
      ]
    },
    {
      "cell_type": "code",
      "execution_count": null,
      "metadata": {
        "id": "axwv_SGArKob"
      },
      "outputs": [],
      "source": [
        "import optuna\n",
        "def objective(trial):\n",
        "    bs  = trial.suggest_categorical('batch_size', [32,64,128,256,512])\n",
        "    opt_name = trial.suggest_categorical('optimizer', ['Adadelta','Adagrad'])#'Adam','Adagrad\n",
        "    lr=trial.suggest_categorical('learning_rate', [1.0])\n",
        "    m_mul_value=trial.suggest_uniform('m_mul', 0.6, 0.95)\n",
        "    min_learning_rate=0.01#round(trial.suggest_uniform('minimum_learning_rate', 1e-6, lr),3)\n",
        "    opt=keras.optimizers.get(opt_name)\n",
        "    opt.learning_rate=tf.keras.optimizers.schedules.CosineDecayRestarts(lr, round((len(X_train)/bs*50)/15), t_mul=2.0, m_mul=m_mul_value, alpha=min_learning_rate)\n",
        "\n",
        "    classifier_model = build_classifier_model()\n",
        "    dataGen=DataGenerator(X_train,y_train,bs)\n",
        "    early_stopping_callback = tf.keras.callbacks.EarlyStopping(monitor='val_loss', patience=15,verbose=0)#patience-kolik epoch se nezmění val_loss pak stop\n",
        "   \n",
        "    classifier_model.compile(optimizer=opt,\n",
        "                  loss=tf.keras.losses.BinaryCrossentropy(from_logits=False), #https://machinelearningmastery.com/how-to-choose-loss-functions-when-training-deep-learning-neural-networks/\n",
        "                  metrics=['binary_accuracy'])\n",
        "    \n",
        "    classifier_model.fit(dataGen,epochs=50,validation_data=(X_val,y_val),callbacks=[early_stopping_callback])\n",
        "    return classifier_model.evaluate(X_test, y_test, verbose=0)[1]\n",
        "\n",
        "study = optuna.create_study(direction='maximize')\n",
        "study.optimize(objective, n_trials=5)\n",
        "\n",
        "print('params:', study.best_trial.params)\n",
        "print('best accuracy:', study.best_value)\n"
      ]
    },
    {
      "cell_type": "code",
      "execution_count": null,
      "metadata": {
        "colab": {
          "base_uri": "https://localhost:8080/",
          "height": 434,
          "referenced_widgets": [
            "2e97012268334d20883d692b50b9b758",
            "1dbf7844270d4fc9b958cc6ea0fd57f4",
            "3629e25409dd4e77a454885f9bbf77fd",
            "19f530f63e8c4c03aa9227d8eb5baeaf",
            "bde806d23a5044d4b25203a72e345220",
            "095323e8fe074817a935085d262a4d5e",
            "8ae95702ca5c482b8f52716ed9110bc8",
            "2ded1c666e354e19994ac175a89933af"
          ]
        },
        "id": "ESASyy2MyHku",
        "outputId": "e3eabedf-9421-4d00-e806-a59a787268c1"
      },
      "outputs": [
        {
          "output_type": "display_data",
          "data": {
            "text/plain": [
              "<IPython.core.display.HTML object>"
            ],
            "text/html": [
              "Finishing last run (ID:2k2x1r4w) before initializing another..."
            ]
          },
          "metadata": {}
        },
        {
          "output_type": "stream",
          "name": "stdout",
          "text": [
            "\n"
          ]
        },
        {
          "output_type": "display_data",
          "data": {
            "text/plain": [
              "<IPython.core.display.HTML object>"
            ],
            "text/html": [
              "Waiting for W&B process to finish... <strong style=\"color:green\">(success).</strong>"
            ]
          },
          "metadata": {}
        },
        {
          "output_type": "display_data",
          "data": {
            "text/plain": [
              "VBox(children=(Label(value='0.001 MB of 0.001 MB uploaded (0.000 MB deduped)\\r'), FloatProgress(value=1.0, max…"
            ],
            "application/vnd.jupyter.widget-view+json": {
              "version_major": 2,
              "version_minor": 0,
              "model_id": "2e97012268334d20883d692b50b9b758"
            }
          },
          "metadata": {}
        },
        {
          "output_type": "display_data",
          "data": {
            "text/plain": [
              "<IPython.core.display.HTML object>"
            ],
            "text/html": [
              "<style>\n",
              "    table.wandb td:nth-child(1) { padding: 0 10px; text-align: right }\n",
              "    .wandb-row { display: flex; flex-direction: row; flex-wrap: wrap; width: 100% }\n",
              "    .wandb-col { display: flex; flex-direction: column; flex-basis: 100%; flex: 1; padding: 10px; }\n",
              "    </style>\n",
              "<div class=\"wandb-row\"><div class=\"wandb-col\"><h3>Run history:</h3><br/><table class=\"wandb\"><tr><td>lr</td><td>▁</td></tr></table><br/></div><div class=\"wandb-col\"><h3>Run summary:</h3><br/><table class=\"wandb\"><tr><td>lr</td><td>1.0</td></tr></table><br/></div></div>"
            ]
          },
          "metadata": {}
        },
        {
          "output_type": "display_data",
          "data": {
            "text/plain": [
              "<IPython.core.display.HTML object>"
            ],
            "text/html": [
              "Synced <strong style=\"color:#cdcd00\">solar-salad-608</strong>: <a href=\"https://wandb.ai/lotrmay/bc/runs/2k2x1r4w\" target=\"_blank\">https://wandb.ai/lotrmay/bc/runs/2k2x1r4w</a><br/>Synced 5 W&B file(s), 1 media file(s), 0 artifact file(s) and 0 other file(s)"
            ]
          },
          "metadata": {}
        },
        {
          "output_type": "display_data",
          "data": {
            "text/plain": [
              "<IPython.core.display.HTML object>"
            ],
            "text/html": [
              "Find logs at: <code>./wandb/run-20220420_064521-2k2x1r4w/logs</code>"
            ]
          },
          "metadata": {}
        },
        {
          "output_type": "display_data",
          "data": {
            "text/plain": [
              "<IPython.core.display.HTML object>"
            ],
            "text/html": [
              "Successfully finished last run (ID:2k2x1r4w). Initializing new run:<br/>"
            ]
          },
          "metadata": {}
        },
        {
          "output_type": "display_data",
          "data": {
            "text/plain": [
              "<IPython.core.display.HTML object>"
            ],
            "text/html": [
              "Tracking run with wandb version 0.12.14"
            ]
          },
          "metadata": {}
        },
        {
          "output_type": "display_data",
          "data": {
            "text/plain": [
              "<IPython.core.display.HTML object>"
            ],
            "text/html": [
              "Run data is saved locally in <code>/content/wandb/run-20220420_064757-1if1g0yk</code>"
            ]
          },
          "metadata": {}
        },
        {
          "output_type": "display_data",
          "data": {
            "text/plain": [
              "<IPython.core.display.HTML object>"
            ],
            "text/html": [
              "Syncing run <strong><a href=\"https://wandb.ai/lotrmay/bc/runs/1if1g0yk\" target=\"_blank\">robust-pond-609</a></strong> to <a href=\"https://wandb.ai/lotrmay/bc\" target=\"_blank\">Weights & Biases</a> (<a href=\"https://wandb.me/run\" target=\"_blank\">docs</a>)<br/>"
            ]
          },
          "metadata": {}
        },
        {
          "output_type": "stream",
          "name": "stdout",
          "text": [
            "Epoch 1/100\n",
            "111/111 [==============================] - ETA: 0s - loss: 0.6703 - binary_accuracy: 0.6058\n",
            "Epoch 1: val_loss improved from inf to 0.63598, saving model to /content/drive/MyDrive/data/recent_model.h5\n",
            "111/111 [==============================] - 239s 2s/step - loss: 0.6703 - binary_accuracy: 0.6058 - val_loss: 0.6360 - val_binary_accuracy: 0.6769 - _timestamp: 1650437531.0000 - _runtime: 249.0000\n",
            "Epoch 2/100\n",
            "  5/111 [>.............................] - ETA: 3:30 - loss: 0.6475 - binary_accuracy: 0.6219"
          ]
        }
      ],
      "source": [
        "class LRLogger(tf.keras.callbacks.Callback):\n",
        "    def __init__(self, optimizer):\n",
        "      super(LRLogger, self).__init__()\n",
        "      self.optimizer = optimizer\n",
        "\n",
        "    def on_epoch_begin(self, epoch, logs):\n",
        "      lr = self.optimizer.learning_rate(self.optimizer.iterations)\n",
        "      wandb.log({\"lr\": lr}, commit=False)\n",
        "\n",
        "hyperparameter_defaults = dict (\n",
        "  optimizer=\"Adadelta\",\n",
        "  learning_rate = 1.0,\n",
        "  min_learning_rate=0.001,\n",
        "  batch_size = 128,\n",
        "  epochs = 100,\n",
        "  reduce_factor=0.95\n",
        ")#počet stepů na epochu * počet chtěných epoch / 15\n",
        "\n",
        "wandb.init(config=hyperparameter_defaults, entity=\"lotrmay\", project=\"bc\")\n",
        "classifier_model = build_classifier_model()\n",
        "dataGen=DataGenerator(X_train,y_train,hyperparameter_defaults.get(\"batch_size\"))\n",
        "opt=keras.optimizers.get(hyperparameter_defaults.get(\"optimizer\"))\n",
        "lr=tf.keras.optimizers.schedules.CosineDecayRestarts(hyperparameter_defaults.get(\"learning_rate\"), round((len(X_train)/hyperparameter_defaults.get(\"batch_size\")*hyperparameter_defaults.get(\"epochs\"))/15), t_mul=2.0, m_mul=hyperparameter_defaults.get(\"reduce_factor\"), alpha=hyperparameter_defaults.get(\"min_learning_rate\"))\n",
        "opt.learning_rate=lr\n",
        "classifier_model.compile(optimizer=opt, loss=tf.keras.losses.BinaryCrossentropy(from_logits=False),metrics=['binary_accuracy'])\n",
        "\n",
        "pickle.dump(main_scaler, open(\"/content/drive/MyDrive/data/recent_scaler.pkl\", 'wb'))\n",
        "logging_callback = wandb.keras.WandbCallback()\n",
        "checkpoint_callback=tf.keras.callbacks.ModelCheckpoint(\"/content/drive/MyDrive/data/recent_model.h5\", monitor='val_loss', verbose=1, save_best_only=True)\n",
        "early_stopping_callback = tf.keras.callbacks.EarlyStopping(monitor='val_loss', patience=15,verbose=1)\n",
        "\n",
        "dataGen=DataGenerator(X_train,y_train,hyperparameter_defaults.get(\"batch_size\"))\n",
        "history = classifier_model.fit(dataGen, epochs=hyperparameter_defaults.get(\"epochs\"),validation_data=(X_val, y_val), callbacks=[checkpoint_callback,early_stopping_callback,LRLogger(opt),logging_callback])#steps\n",
        "model= tf.keras.models.load_model((\"/content/drive/MyDrive/data/recent_model.h5\"),custom_objects={'KerasLayer':hub.KerasLayer})\n",
        "scaler=pickle.load(open(\"/content/drive/MyDrive/data/recent_scaler.pkl\", 'rb'))\n",
        "\n",
        "scaledData=scaler.transform(X)\n",
        "scaledData=returnTextForm(scaledData)\n",
        "pred_test= model.predict(scaledData)\n",
        "scores2 = model.evaluate(scaledData, y, verbose=1)\n",
        "print('Accuracy on the whole dataset: {:.2%} \\n Error on the whole dataset: {:.2%}'.format(scores2[1], 1 - scores2[1]))\n",
        "\n",
        "plt.plot(history.history['binary_accuracy'])\n",
        "plt.plot(history.history['val_binary_accuracy'])\n",
        "plt.title('model accuracy')\n",
        "plt.ylabel('binary_accuracy')\n",
        "plt.xlabel('epoch')\n",
        "plt.legend(['train', 'val'], loc='upper left')\n",
        "plt.show()\n",
        "plt.plot(history.history['loss'])\n",
        "plt.plot(history.history['val_loss'])\n",
        "plt.title('model loss')\n",
        "plt.ylabel('loss')\n",
        "plt.xlabel('epoch')\n",
        "plt.legend(['train', 'val'], loc='upper left')\n",
        "plt.show()\n",
        "wandb.finish()\n"
      ]
    },
    {
      "cell_type": "markdown",
      "metadata": {
        "id": "WaCOn5krUCQf"
      },
      "source": [
        "Testování embedded modelů:\n",
        "\n",
        "\n",
        "\n",
        "\n",
        "\n",
        "\n",
        "\n",
        "\n",
        "\n",
        "\n",
        "\n",
        "\n",
        "\n",
        "\n",
        "\n",
        "\n",
        "\n",
        "\n",
        "\n",
        "\n",
        "\n",
        "\n"
      ]
    },
    {
      "cell_type": "code",
      "execution_count": null,
      "metadata": {
        "id": "TPgNSTNmajEV"
      },
      "outputs": [],
      "source": [
        "models=list()\n",
        "models.append(keras.models.load_model(\"/content/drive/MyDrive/data/new/m1.h5\"))\n",
        "models.append(keras.models.load_model(\"/content/drive/MyDrive/data/new/m2.h5\"))\n",
        "models.append(keras.models.load_model(\"/content/drive/MyDrive/data/new/m3.h5\"))\n",
        "\n",
        "scalers=list()\n",
        "\n",
        "scalers.append(pickle.load(open(\"/content/drive/MyDrive/data/new/s1.pkl\", 'rb')))\n",
        "scalers.append(pickle.load(open(\"/content/drive/MyDrive/data/new/s2.pkl\", 'rb')))\n",
        "scalers.append(pickle.load(open(\"/content/drive/MyDrive/data/new/s3.pkl\", 'rb')))\n",
        "\n",
        "\n",
        "data=scalers[0].transform(X)\n",
        "predictions=models[0].predict(data)\n",
        "\n",
        "data=scalers[1].transform(X)\n",
        "predictions2=models[1].predict(data)\n",
        "\n",
        "data=scalers[2].transform(X)\n",
        "predictions3=models[2].predict(data)\n",
        "\n",
        "\n",
        "predictionList=list()\n",
        "for i in range(y.shape[0]):\n",
        "  yhats=list()\n",
        "  yhats.append(predictions[i])\n",
        "  yhats.append(predictions2[i])\n",
        "  yhats.append(predictions3[i])\n",
        "\n",
        "\n",
        "  yhats = np.array(yhats)\n",
        "  outcomes = np.mean(yhats)\n",
        "  predictionList.append(round(outcomes))\n",
        "\n",
        "count = np.count_nonzero(predictionList == y)\n",
        "print(count/y.shape[0])\n",
        "print('Accuracy on the whole dataset: {:.2%} \\n Error on the whole dataset: {:.2%}'.format(count/y.shape[0], 1 - count/y.shape[0]))"
      ]
    },
    {
      "cell_type": "code",
      "execution_count": null,
      "metadata": {
        "id": "gPytJG9w_TnC"
      },
      "outputs": [],
      "source": [
        "models=list()\n",
        "models.append(tf.keras.models.load_model((\"/content/drive/MyDrive/data/best_model.h5\"),custom_objects={'KerasLayer':hub.KerasLayer}))\n",
        "models.append(tf.keras.models.load_model((\"/content/drive/MyDrive/data/test/recent_model.h5\"),custom_objects={'KerasLayer':hub.KerasLayer}))\n",
        "models.append(tf.keras.models.load_model((\"/content/drive/MyDrive/data/test/recent_model2.h5\"),custom_objects={'KerasLayer':hub.KerasLayer}))\n",
        "\n",
        "scalers=list()\n",
        "scalers.append(pickle.load(open(\"/content/drive/MyDrive/data/best_scaler.pkl\", 'rb')))\n",
        "scalers.append(pickle.load(open(\"/content/drive/MyDrive/data/test/recent_scaler.pkl\", 'rb')))\n",
        "scalers.append(pickle.load(open(\"/content/drive/MyDrive/data/test/recent_scaler2.pkl\", 'rb')))\n",
        "\n",
        "\n",
        "data=scalers[0].transform(X)\n",
        "data=returnTextForm(data)\n",
        "predictions=models[0].predict(data)\n",
        "\n",
        "data=scalers[1].transform(X)\n",
        "data=returnTextForm(data)\n",
        "predictions2=models[1].predict(data)\n",
        "\n",
        "data=scalers[2].transform(X)\n",
        "data=returnTextForm(data)\n",
        "predictions3=models[2].predict(data)\n"
      ]
    },
    {
      "cell_type": "code",
      "source": [
        "\n",
        "predictionList=list()\n",
        "for i in range(y.shape[0]):\n",
        "  yhats=list()\n",
        "  yhats.append(predictions[i])\n",
        "  #yhats.append(predictions2[i])\n",
        "  yhats.append(predictions3[i])\n",
        "\n",
        "  yhats = np.array(yhats)\n",
        "  outcomes = np.mean(yhats)\n",
        "  predictionList.append(round(outcomes))\n",
        "\n",
        "count = np.count_nonzero(predictionList == y)\n",
        "print(count/y.shape[0])\n",
        "print('Accuracy on the whole dataset: {:.2%} \\n Error on the whole dataset: {:.2%}'.format(count/y.shape[0], 1 - count/y.shape[0]))\n"
      ],
      "metadata": {
        "colab": {
          "base_uri": "https://localhost:8080/"
        },
        "id": "kfEVVLHOtlQq",
        "outputId": "9893f89a-50fa-4db4-dc44-435a3c4cdc83"
      },
      "execution_count": null,
      "outputs": [
        {
          "output_type": "stream",
          "name": "stdout",
          "text": [
            "0.6917838803304309\n",
            "Accuracy on the whole dataset: 69.18% \n",
            " Error on the whole dataset: 30.82%\n"
          ]
        }
      ]
    },
    {
      "cell_type": "code",
      "execution_count": null,
      "metadata": {
        "colab": {
          "base_uri": "https://localhost:8080/"
        },
        "id": "C32fT5Sc1_Qn",
        "outputId": "2eae1594-768d-4843-864f-d534da3906ee"
      },
      "outputs": [
        {
          "output_type": "execute_result",
          "data": {
            "text/plain": [
              "array([[0.45843104],\n",
              "       [0.9150423 ],\n",
              "       [0.34710377],\n",
              "       [0.37569317],\n",
              "       [0.53999895],\n",
              "       [0.25977474],\n",
              "       [0.52886564],\n",
              "       [0.4493159 ],\n",
              "       [0.11985713],\n",
              "       [0.4891027 ],\n",
              "       [0.518847  ],\n",
              "       [0.3475605 ],\n",
              "       [0.36075062]], dtype=float32)"
            ]
          },
          "metadata": {},
          "execution_count": 24
        }
      ],
      "source": [
        "Xnew=np.array([[2.04,1.81,29,36,0.38,0.42,0.484,0.428,1.08,0.68,0.72,1.01,78.3,0.73,0.39,1.07,4.4,1.03,0.66,0.68,0.99,74.3,0.68,0.56,1.03,3.9,1.01,0.71,0.7,0.95,76.9,0.65,0.5,0.91,2.6,0.99,0.67,0.66,1.01,68.0,0.67,0.36,1.01,3.4,0.91,0.7,0.69,0.81,66.6,0.56,0.5,0.80,5.2,1.04,0.67,0.69,1.04,71.1,0.69,0.26,1.03,6.4,1.04,0.68,0.67,1.07,75.1,0.68,0.56,1.00,7.4,1.04,0.72,0.69,1.05,75.9,0.71,0.64,0.99,4.4,0.88,0.71,0.65,0.78,67.9,0.58,0.52,0.82,4.3,0.86,0.72,0.65,0.86,64.5,0.56,0.48,0.78,6.6],\n",
        "               [1.22,4,1,19,0.77,0.62,0.606,0.591,1.18,0.57,0.73,1.17,75.2,0.75,0.46,1.33,1.9,1.16,0.56,0.77,1.01,71.9,0.71,0.28,1.28,3.9,1.13,0.56,0.75,0.98,75.8,0.66,0.59,1.19,5.3,1.11,0.67,0.72,1.11,79.6,0.7,0.47,1.04,6.0,0.93,0.68,0.66,0.94,67.9,0.57,0.48,0.85,6.6,1.22,0.56,0.74,1.28,75.6,0.74,0.23,1.33,3.6,1.2,0.72,0.71,1.32,90.3,0.77,0.55,1.08,9.5,1.09,0.63,0.72,1.04,74.4,0.7,0.52,1.12,3.0,1.02,0.63,0.7,0.93,70.0,0.62,0.47,1.00,7.2,0.94,0.67,0.69,0.78,66.5,0.62,0.63,0.92,4.0],\n",
        "               [3.18,1.33,107,51,0.58,0.48,0.5,0.472,1.26,0.62,0.75,1.34,83.0,0.81,0.27,1.30,4.9,1.1,0.72,0.7,1.18,84.6,0.73,0.37,1.00,9.8,1.06,0.72,0.7,1.13,77.3,0.73,0.4,1.02,4.5,1.02,0.67,0.69,0.98,74.6,0.67,0.46,1.00,6.4,0.89,0.63,0.69,0.69,60.9,0.55,0.56,0.87,4.0,1.12,0.61,0.71,1.1,73.9,0.72,0.28,1.18,3.6,1.07,0.7,0.68,1.1,79.0,0.71,0.48,1.02,5.3,1.07,0.7,0.66,1.13,79.9,0.72,0.54,1.03,2.8,0.98,0.68,0.68,0.93,70.2,0.65,0.53,0.95,3.7,1.06,0.67,0.68,1.06,75.75,0.7,0.46,1.05,3.85],\n",
        "               [1.4,2.75,54,100,0.64,0.46,0.575,0.5,1.13,0.63,0.71,1.16,76.4,0.7,0.46,1.11,5.2,1.09,0.63,0.7,1.05,75.5,0.69,0.49,1.10,5.3,1.02,0.67,0.68,1.06,73.8,0.62,0.55,0.93,7.3,1.08,0.64,0.7,1.09,75.23,0.67,0.5,1.05,5.93,1.08,0.64,0.7,1.09,75.23,0.67,0.5,1.05,5.93,1.2,0.68,0.71,1.26,86.6,0.83,0.45,1.23,4.0,1.03,0.65,0.72,0.97,70.8,0.64,0.49,0.98,4.7,1.02,0.66,0.7,0.99,70.8,0.66,0.4,1.01,5.6,0.93,0.74,0.66,0.98,72.1,0.61,0.4,0.83,6.8,1.04,0.68,0.7,1.05,75.07,0.68,0.43,1.01,5.27],\n",
        "               [1.71,2.08,121,140,0.8,0.79,0.5,0.5,1.48,0.61,0.75,1.72,99.8,0.92,0.27,1.51,3.1,1.22,0.6,0.79,1.12,78.9,0.78,0.52,1.31,4.0,1.21,0.58,0.78,1.02,82.3,0.73,0.57,1.27,5.6,1.3,0.6,0.77,1.29,87.0,0.81,0.45,1.36,4.23,1.3,0.6,0.77,1.29,87.0,0.81,0.45,1.36,4.23,1.27,0.58,0.74,1.31,86.4,0.79,0.41,1.35,5.7,1.2,0.58,0.77,1.12,77.6,0.75,0.26,1.29,6.1,1.11,0.68,0.72,1.19,79.2,0.71,0.4,1.04,9.8,1.1,0.6,0.71,1.06,74.0,0.69,0.43,1.14,8.3,1.05,0.64,0.73,0.93,74.3,0.69,0.47,1.08,6.5]])\n",
        "scaler=pickle.load(open(\"/content/drive/MyDrive/data/best_scaler.pkl\", 'rb'))\n",
        "model=tf.keras.models.load_model((\"/content/drive/MyDrive/data/best_model.h5\"),custom_objects={'KerasLayer':hub.KerasLayer})\n",
        "Xnew=scaler.transform(Xnew)\n",
        "Xnew=returnTextForm(Xnew)\n",
        "model.predict(Xnew)"
      ]
    },
    {
      "cell_type": "code",
      "source": [
        "model= tf.keras.models.load_model((\"/content/drive/MyDrive/data/recent_model.h5\"),custom_objects={'KerasLayer':hub.KerasLayer})\n",
        "scaler=pickle.load(open(\"/content/drive/MyDrive/data/recent_scaler.pkl\", 'rb'))\n",
        "\n",
        "scaledData=scaler.transform(X)\n",
        "scaledData=returnTextForm(scaledData)\n",
        "pred_test= model.predict(scaledData)\n",
        "scores2 = model.evaluate(scaledData, y, verbose=1)\n",
        "print('Accuracy on the whole dataset: {:.2%} \\n Error on the whole dataset: {:.2%}'.format(scores2[1], 1 - scores2[1]))\n"
      ],
      "metadata": {
        "id": "gg9ebarJVQPs"
      },
      "execution_count": null,
      "outputs": []
    },
    {
      "cell_type": "code",
      "source": [
        "Xnew=np.array([[2.04,1.81,29,36,0.38,0.42,0.484,0.428,1.08,0.68,0.72,1.01,78.3,0.73,0.39,1.07,4.4,1.03,0.66,0.68,0.99,74.3,0.68,0.56,1.03,3.9,1.01,0.71,0.7,0.95,76.9,0.65,0.5,0.91,2.6,0.99,0.67,0.66,1.01,68.0,0.67,0.36,1.01,3.4,0.91,0.7,0.69,0.81,66.6,0.56,0.5,0.80,5.2,1.04,0.67,0.69,1.04,71.1,0.69,0.26,1.03,6.4,1.04,0.68,0.67,1.07,75.1,0.68,0.56,1.00,7.4,1.04,0.72,0.69,1.05,75.9,0.71,0.64,0.99,4.4,0.88,0.71,0.65,0.78,67.9,0.58,0.52,0.82,4.3,0.86,0.72,0.65,0.86,64.5,0.56,0.48,0.78,6.6],\n",
        "               [1.22,4,1,19,0.77,0.62,0.606,0.591,1.18,0.57,0.73,1.17,75.2,0.75,0.46,1.33,1.9,1.16,0.56,0.77,1.01,71.9,0.71,0.28,1.28,3.9,1.13,0.56,0.75,0.98,75.8,0.66,0.59,1.19,5.3,1.11,0.67,0.72,1.11,79.6,0.7,0.47,1.04,6.0,0.93,0.68,0.66,0.94,67.9,0.57,0.48,0.85,6.6,1.22,0.56,0.74,1.28,75.6,0.74,0.23,1.33,3.6,1.2,0.72,0.71,1.32,90.3,0.77,0.55,1.08,9.5,1.09,0.63,0.72,1.04,74.4,0.7,0.52,1.12,3.0,1.02,0.63,0.7,0.93,70.0,0.62,0.47,1.00,7.2,0.94,0.67,0.69,0.78,66.5,0.62,0.63,0.92,4.0],\n",
        "               [3.18,1.33,107,51,0.58,0.48,0.5,0.472,1.26,0.62,0.75,1.34,83.0,0.81,0.27,1.30,4.9,1.1,0.72,0.7,1.18,84.6,0.73,0.37,1.00,9.8,1.06,0.72,0.7,1.13,77.3,0.73,0.4,1.02,4.5,1.02,0.67,0.69,0.98,74.6,0.67,0.46,1.00,6.4,0.89,0.63,0.69,0.69,60.9,0.55,0.56,0.87,4.0,1.12,0.61,0.71,1.1,73.9,0.72,0.28,1.18,3.6,1.07,0.7,0.68,1.1,79.0,0.71,0.48,1.02,5.3,1.07,0.7,0.66,1.13,79.9,0.72,0.54,1.03,2.8,0.98,0.68,0.68,0.93,70.2,0.65,0.53,0.95,3.7,1.06,0.67,0.68,1.06,75.75,0.7,0.46,1.05,3.85],\n",
        "               [1.4,2.75,54,100,0.64,0.46,0.575,0.5,1.13,0.63,0.71,1.16,76.4,0.7,0.46,1.11,5.2,1.09,0.63,0.7,1.05,75.5,0.69,0.49,1.10,5.3,1.02,0.67,0.68,1.06,73.8,0.62,0.55,0.93,7.3,1.08,0.64,0.7,1.09,75.23,0.67,0.5,1.05,5.93,1.08,0.64,0.7,1.09,75.23,0.67,0.5,1.05,5.93,1.2,0.68,0.71,1.26,86.6,0.83,0.45,1.23,4.0,1.03,0.65,0.72,0.97,70.8,0.64,0.49,0.98,4.7,1.02,0.66,0.7,0.99,70.8,0.66,0.4,1.01,5.6,0.93,0.74,0.66,0.98,72.1,0.61,0.4,0.83,6.8,1.04,0.68,0.7,1.05,75.07,0.68,0.43,1.01,5.27],\n",
        "               [1.71,2.08,121,140,0.8,0.79,0.5,0.5,1.48,0.61,0.75,1.72,99.8,0.92,0.27,1.51,3.1,1.22,0.6,0.79,1.12,78.9,0.78,0.52,1.31,4.0,1.21,0.58,0.78,1.02,82.3,0.73,0.57,1.27,5.6,1.3,0.6,0.77,1.29,87.0,0.81,0.45,1.36,4.23,1.3,0.6,0.77,1.29,87.0,0.81,0.45,1.36,4.23,1.27,0.58,0.74,1.31,86.4,0.79,0.41,1.35,5.7,1.2,0.58,0.77,1.12,77.6,0.75,0.26,1.29,6.1,1.11,0.68,0.72,1.19,79.2,0.71,0.4,1.04,9.8,1.1,0.6,0.71,1.06,74.0,0.69,0.43,1.14,8.3,1.05,0.64,0.73,0.93,74.3,0.69,0.47,1.08,6.5]])\n",
        "\n",
        "models=list()\n",
        "models.append(tf.keras.models.load_model((\"/content/drive/MyDrive/data/best_model.h5\"),custom_objects={'KerasLayer':hub.KerasLayer}))\n",
        "models.append(tf.keras.models.load_model((\"/content/drive/MyDrive/data/test/recent_model.h5\"),custom_objects={'KerasLayer':hub.KerasLayer}))\n",
        "models.append(tf.keras.models.load_model((\"/content/drive/MyDrive/data/test/recent_model2.h5\"),custom_objects={'KerasLayer':hub.KerasLayer}))\n",
        "\n",
        "scalers=list()\n",
        "scalers.append(pickle.load(open(\"/content/drive/MyDrive/data/best_scaler.pkl\", 'rb')))\n",
        "scalers.append(pickle.load(open(\"/content/drive/MyDrive/data/test/recent_scaler.pkl\", 'rb')))\n",
        "scalers.append(pickle.load(open(\"/content/drive/MyDrive/data/test/recent_scaler2.pkl\", 'rb')))\n",
        "\n",
        "\n",
        "data=scalers[0].transform(Xnew)\n",
        "data=returnTextForm(data)\n",
        "predictions=models[0].predict(data)\n",
        "\n",
        "data=scalers[1].transform(Xnew)\n",
        "data=returnTextForm(data)\n",
        "predictions2=models[1].predict(data)\n",
        "\n",
        "data=scalers[2].transform(Xnew)\n",
        "data=returnTextForm(data)\n",
        "predictions3=models[2].predict(data)\n",
        "\n",
        "predictionList=list()\n",
        "for i in range(Xnew.shape[0]):\n",
        "  yhats=list()\n",
        "  yhats.append(predictions[i])\n",
        "  #yhats.append(predictions2[i])\n",
        "  yhats.append(predictions3[i])\n",
        "\n",
        "  yhats = np.array(yhats)\n",
        "  outcomes = np.mean(yhats)\n",
        "  print(outcomes)\n",
        "\n"
      ],
      "metadata": {
        "colab": {
          "base_uri": "https://localhost:8080/"
        },
        "id": "XZtECG58cLwA",
        "outputId": "69b79058-3d9f-4abb-da37-95983d783c1c"
      },
      "execution_count": null,
      "outputs": [
        {
          "output_type": "stream",
          "name": "stdout",
          "text": [
            "0.4596421\n",
            "0.16127232\n",
            "0.55471027\n",
            "0.32457596\n",
            "0.41362455\n"
          ]
        }
      ]
    }
  ],
  "metadata": {
    "colab": {
      "collapsed_sections": [],
      "name": "bc bert.ipynb",
      "provenance": [],
      "authorship_tag": "ABX9TyMQvvGTy9xv8l6mSNyVFabO",
      "include_colab_link": true
    },
    "kernelspec": {
      "display_name": "Python 3",
      "name": "python3"
    },
    "language_info": {
      "name": "python"
    },
    "widgets": {
      "application/vnd.jupyter.widget-state+json": {
        "2e97012268334d20883d692b50b9b758": {
          "model_module": "@jupyter-widgets/controls",
          "model_name": "VBoxModel",
          "model_module_version": "1.5.0",
          "state": {
            "_dom_classes": [],
            "_model_module": "@jupyter-widgets/controls",
            "_model_module_version": "1.5.0",
            "_model_name": "VBoxModel",
            "_view_count": null,
            "_view_module": "@jupyter-widgets/controls",
            "_view_module_version": "1.5.0",
            "_view_name": "VBoxView",
            "box_style": "",
            "children": [
              "IPY_MODEL_1dbf7844270d4fc9b958cc6ea0fd57f4",
              "IPY_MODEL_3629e25409dd4e77a454885f9bbf77fd"
            ],
            "layout": "IPY_MODEL_19f530f63e8c4c03aa9227d8eb5baeaf"
          }
        },
        "1dbf7844270d4fc9b958cc6ea0fd57f4": {
          "model_module": "@jupyter-widgets/controls",
          "model_name": "LabelModel",
          "model_module_version": "1.5.0",
          "state": {
            "_dom_classes": [],
            "_model_module": "@jupyter-widgets/controls",
            "_model_module_version": "1.5.0",
            "_model_name": "LabelModel",
            "_view_count": null,
            "_view_module": "@jupyter-widgets/controls",
            "_view_module_version": "1.5.0",
            "_view_name": "LabelView",
            "description": "",
            "description_tooltip": null,
            "layout": "IPY_MODEL_bde806d23a5044d4b25203a72e345220",
            "placeholder": "​",
            "style": "IPY_MODEL_095323e8fe074817a935085d262a4d5e",
            "value": "6.340 MB of 6.340 MB uploaded (0.000 MB deduped)\r"
          }
        },
        "3629e25409dd4e77a454885f9bbf77fd": {
          "model_module": "@jupyter-widgets/controls",
          "model_name": "FloatProgressModel",
          "model_module_version": "1.5.0",
          "state": {
            "_dom_classes": [],
            "_model_module": "@jupyter-widgets/controls",
            "_model_module_version": "1.5.0",
            "_model_name": "FloatProgressModel",
            "_view_count": null,
            "_view_module": "@jupyter-widgets/controls",
            "_view_module_version": "1.5.0",
            "_view_name": "ProgressView",
            "bar_style": "",
            "description": "",
            "description_tooltip": null,
            "layout": "IPY_MODEL_8ae95702ca5c482b8f52716ed9110bc8",
            "max": 1,
            "min": 0,
            "orientation": "horizontal",
            "style": "IPY_MODEL_2ded1c666e354e19994ac175a89933af",
            "value": 1
          }
        },
        "19f530f63e8c4c03aa9227d8eb5baeaf": {
          "model_module": "@jupyter-widgets/base",
          "model_name": "LayoutModel",
          "model_module_version": "1.2.0",
          "state": {
            "_model_module": "@jupyter-widgets/base",
            "_model_module_version": "1.2.0",
            "_model_name": "LayoutModel",
            "_view_count": null,
            "_view_module": "@jupyter-widgets/base",
            "_view_module_version": "1.2.0",
            "_view_name": "LayoutView",
            "align_content": null,
            "align_items": null,
            "align_self": null,
            "border": null,
            "bottom": null,
            "display": null,
            "flex": null,
            "flex_flow": null,
            "grid_area": null,
            "grid_auto_columns": null,
            "grid_auto_flow": null,
            "grid_auto_rows": null,
            "grid_column": null,
            "grid_gap": null,
            "grid_row": null,
            "grid_template_areas": null,
            "grid_template_columns": null,
            "grid_template_rows": null,
            "height": null,
            "justify_content": null,
            "justify_items": null,
            "left": null,
            "margin": null,
            "max_height": null,
            "max_width": null,
            "min_height": null,
            "min_width": null,
            "object_fit": null,
            "object_position": null,
            "order": null,
            "overflow": null,
            "overflow_x": null,
            "overflow_y": null,
            "padding": null,
            "right": null,
            "top": null,
            "visibility": null,
            "width": null
          }
        },
        "bde806d23a5044d4b25203a72e345220": {
          "model_module": "@jupyter-widgets/base",
          "model_name": "LayoutModel",
          "model_module_version": "1.2.0",
          "state": {
            "_model_module": "@jupyter-widgets/base",
            "_model_module_version": "1.2.0",
            "_model_name": "LayoutModel",
            "_view_count": null,
            "_view_module": "@jupyter-widgets/base",
            "_view_module_version": "1.2.0",
            "_view_name": "LayoutView",
            "align_content": null,
            "align_items": null,
            "align_self": null,
            "border": null,
            "bottom": null,
            "display": null,
            "flex": null,
            "flex_flow": null,
            "grid_area": null,
            "grid_auto_columns": null,
            "grid_auto_flow": null,
            "grid_auto_rows": null,
            "grid_column": null,
            "grid_gap": null,
            "grid_row": null,
            "grid_template_areas": null,
            "grid_template_columns": null,
            "grid_template_rows": null,
            "height": null,
            "justify_content": null,
            "justify_items": null,
            "left": null,
            "margin": null,
            "max_height": null,
            "max_width": null,
            "min_height": null,
            "min_width": null,
            "object_fit": null,
            "object_position": null,
            "order": null,
            "overflow": null,
            "overflow_x": null,
            "overflow_y": null,
            "padding": null,
            "right": null,
            "top": null,
            "visibility": null,
            "width": null
          }
        },
        "095323e8fe074817a935085d262a4d5e": {
          "model_module": "@jupyter-widgets/controls",
          "model_name": "DescriptionStyleModel",
          "model_module_version": "1.5.0",
          "state": {
            "_model_module": "@jupyter-widgets/controls",
            "_model_module_version": "1.5.0",
            "_model_name": "DescriptionStyleModel",
            "_view_count": null,
            "_view_module": "@jupyter-widgets/base",
            "_view_module_version": "1.2.0",
            "_view_name": "StyleView",
            "description_width": ""
          }
        },
        "8ae95702ca5c482b8f52716ed9110bc8": {
          "model_module": "@jupyter-widgets/base",
          "model_name": "LayoutModel",
          "model_module_version": "1.2.0",
          "state": {
            "_model_module": "@jupyter-widgets/base",
            "_model_module_version": "1.2.0",
            "_model_name": "LayoutModel",
            "_view_count": null,
            "_view_module": "@jupyter-widgets/base",
            "_view_module_version": "1.2.0",
            "_view_name": "LayoutView",
            "align_content": null,
            "align_items": null,
            "align_self": null,
            "border": null,
            "bottom": null,
            "display": null,
            "flex": null,
            "flex_flow": null,
            "grid_area": null,
            "grid_auto_columns": null,
            "grid_auto_flow": null,
            "grid_auto_rows": null,
            "grid_column": null,
            "grid_gap": null,
            "grid_row": null,
            "grid_template_areas": null,
            "grid_template_columns": null,
            "grid_template_rows": null,
            "height": null,
            "justify_content": null,
            "justify_items": null,
            "left": null,
            "margin": null,
            "max_height": null,
            "max_width": null,
            "min_height": null,
            "min_width": null,
            "object_fit": null,
            "object_position": null,
            "order": null,
            "overflow": null,
            "overflow_x": null,
            "overflow_y": null,
            "padding": null,
            "right": null,
            "top": null,
            "visibility": null,
            "width": null
          }
        },
        "2ded1c666e354e19994ac175a89933af": {
          "model_module": "@jupyter-widgets/controls",
          "model_name": "ProgressStyleModel",
          "model_module_version": "1.5.0",
          "state": {
            "_model_module": "@jupyter-widgets/controls",
            "_model_module_version": "1.5.0",
            "_model_name": "ProgressStyleModel",
            "_view_count": null,
            "_view_module": "@jupyter-widgets/base",
            "_view_module_version": "1.2.0",
            "_view_name": "StyleView",
            "bar_color": null,
            "description_width": ""
          }
        }
      }
    }
  },
  "nbformat": 4,
  "nbformat_minor": 0
}